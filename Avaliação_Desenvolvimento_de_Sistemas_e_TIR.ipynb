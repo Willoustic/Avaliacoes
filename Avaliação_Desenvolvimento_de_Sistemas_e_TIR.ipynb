{
  "nbformat": 4,
  "nbformat_minor": 0,
  "metadata": {
    "colab": {
      "name": "Avaliação Desenvolvimento de Sistemas e TIR.ipynb",
      "provenance": [],
      "collapsed_sections": []
    },
    "kernelspec": {
      "name": "python3",
      "display_name": "Python 3"
    },
    "language_info": {
      "name": "python"
    }
  },
  "cells": [
    {
      "cell_type": "code",
      "metadata": {
        "id": "MrF9CSIiAFZf"
      },
      "source": [
        "# Avaliação Desenvolvimento de Sistemas e TIR\n",
        "# Questões Desenvolvimento de Sistemas\n",
        "# Questão 1 \n",
        "print(\"Digite o nome do grupo: \")\n",
        "grupo = input()\n",
        "print(\"Digite o nome do primeiro integrante do grupo: \")\n",
        "nome1 = input()\n",
        "print(\"Digite o nome do segundo integrante do grupo: \")\n",
        "nome2 = input()\n",
        "print(\"Digite o nome do terceiro integrante do grupo:\")\n",
        "nome3 = input()\n",
        "print(\"Digite o nome do quarto integrante do grupo:\")\n",
        "nome4 = input()\n",
        "print(\"O nome do grupo é: \" + grupo + \". Ele é composto por \" + nome1 + \", \" + nome2 + \", \" + nome3 + \", e \" + nome4 )"
      ],
      "execution_count": null,
      "outputs": []
    },
    {
      "cell_type": "code",
      "metadata": {
        "id": "acYtjVuDCg3c"
      },
      "source": [
        "# Avaliação Desenvolvimento de Sistemas\n",
        "# Questões Desenvolvimento de Sistemas\n",
        "# Questão 2\n",
        "print(\"Digite o nome da Turma: \")\n",
        "turma = input()\n",
        "print(\"Digite qual o seu Turno: \")\n",
        "turno = input()\n",
        "ll = 16\n",
        "print(\"Comprimento do lance de cabo mais longo(LL): \" + str(ll))\n",
        "lc = 10\n",
        "print(\"Comprimento do lance de cabo mais curto(LC): \" + str(lc))\n",
        "pd = 3\n",
        "print(\"Altura do pé direito da edificação(PD): \" + str(pd))\n",
        "np = 10\n",
        "print(\"Número de pontos de rede projetado(NP): \" + str(np))\n",
        "tc = ((ll + lc + 4 * pd) / 2) * np * 1.10\n",
        "print (\" Total do cabeamento horizontal (TC): \"+ str(tc))\n",
        "print(\"Cálculo do comprimento do cabeamento nos percursos horizontais: TC = [(LL+LC+4PD)/2] * NP * 1,10\")\n",
        "print(\"TC = [(\" + str(ll) + \" + \" + str(lc) + \"+\" + \"4*\" + str(pd) + \")/2] * \" + str(np) + \" * 1,10 = \"\n",
        " + str(int(tc)))\n",
        "print(\"Sua turma: \" + turma)\n",
        "print(\"Seu turno: \" + turno)\n",
        "print(\"Total do cabeamento horizontal: \" + str(int(tc)))"
      ],
      "execution_count": null,
      "outputs": []
    },
    {
      "cell_type": "code",
      "metadata": {
        "id": "Nrtni2y8DGDA"
      },
      "source": [
        "# Avaliação Desenvolvimento de Sistemas\n",
        "# Questões Desenvolvimento de Sistemas\n",
        "# Questão 3\n",
        "video = 30\n",
        "semanas = 30\n",
        "tamanho = 500\n",
        "anos = 5\n",
        "print(\"Videoaulas por semana:\", str(video))\n",
        "print(\"Ano letivo tem\", str(semanas), \"semanas de aula\")\n",
        "print(\"Cada vídeo possui:\", str(tamanho) + \"mb\")\n",
        "#Para 5 anos\n",
        "vidano = video*semanas\n",
        "mbano = vidano*tamanho\n",
        "print(\"Cada ano são produzidos:\", str(vidano),\"vídeos\")\n",
        "print(\"Por ano são ocupados:\", str(mbano)+\"mb\")\n",
        "semcin = semanas*anos\n",
        "print(\"Por cinco anos letivos teremos\", str(semcin), \"semanas\")\n",
        "vidcin = semcin*video\n",
        "print(\"Durante cinco anos serão gravados\", str(vidcin),\"videos\")\n",
        "mbcin = vidcin*tamanho\n",
        "print(\"Precisando assim de um disco de\", str(mbcin),\"mb\")\n",
        "\n",
        "\n",
        "\n"
      ],
      "execution_count": null,
      "outputs": []
    },
    {
      "cell_type": "markdown",
      "metadata": {
        "id": "XbvNe2VWDXAS"
      },
      "source": [
        "# Questões Redes de Computadores\n",
        "# Questão 1 (Resposta)\n",
        "\n",
        "~$ mkdir Clientes\n",
        "\n",
        "~$ cd Clientes\n",
        "\n",
        "~/Clientes$ mkdir Empresa1\n",
        "\n",
        "~/Clientes$ mkdir Empresa2\n",
        "\n",
        "~/Clientes$ mkdir Empresa3\n",
        "\n",
        "~/Clientes$ cd Empresa1\n",
        "\n",
        "~/Clientes/Empresa1$ mkdir Pasta1\n",
        "\n",
        "~/Clientes/Empresa1$ mkdir Pasta2\n",
        "\n",
        "~/Clientes/Empresa1$ mkdir Pasta3\n",
        "\n",
        "~/Clientes/Empresa1$ cd /home/user/Clientes\n",
        "\n",
        "~/Clientes$ cd Empresa2\n",
        "\n",
        "~/Clientes/Empresa2$ mkdir Pasta1\n",
        "\n",
        "~/Clientes/Empresa2$ mkdir Pasta2\n",
        "\n",
        "~/Clientes/Empresa2$ mkdir Pasta3\n",
        "\n",
        "~/Clientes/Empresa2$ cd /home/user/Clientes\n",
        "\n",
        "~/Clientes$ cd Empresa3\n",
        "\n",
        "~/Clientes/Empresa2$ mkdir Pasta1\n",
        "\n",
        "~/Clientes/Empresa2$ mkdir Pasta2\n",
        "\n",
        "~/Clientes/Empresa2$ mkdir Pasta3\n",
        "\n",
        "\n",
        "\n",
        "\n",
        "\n",
        "\n"
      ]
    },
    {
      "cell_type": "markdown",
      "metadata": {
        "id": "BzO9vKiUDXNz"
      },
      "source": [
        "# Questões Redes de Computadores\n",
        "# Questão 2 (Respostas)\n",
        "\n",
        "No computador que conseguiu se conectar a rede, abra o Terminal, e digite \"ifconfig\", logo aparecerá todas as informações da rede no qual o computador está conectado. Assim, abrindo as configurações de rede do computador que não conseguiu se conectar, e colocar as informações de rede manualmente no computador."
      ]
    },
    {
      "cell_type": "markdown",
      "metadata": {
        "id": "VoMloqafDXo6"
      },
      "source": [
        "# Questões Redes de Computadores\n",
        "# Questão 3 (Respostas)\n",
        "\n",
        "#Resposta camada Aplicação: \n",
        "É onde são realizadas a maior parte das requisições para execução de tarefas na rede.\n",
        "1º Protocolo: Telnet (Terminal Virtual)\n",
        "2º Protocolo: HTTP (Hyper Transfer Protocol)\n",
        "\n",
        "#Resposta camada Transporte:\n",
        "É a camada responsavél pelo controle de fluxo, controle de erro, sequenciação e multiplexação de mensagens, administrando o envio e o recibo do pacote de dados.\n",
        "1º Protocolo: UDP (User Datagram Protocol)\n",
        "2º Protocolo: TCP (Transmission Control Protocol)\n",
        "\n",
        "\n",
        "#Resposta camada Internet:\n",
        "É responsavél pela permissão do envio do pacote de dados por hosts a qualquer rede, e pela garantia que esses dados cheguem ao seu destino, sendo assim o caminho por onde essas pacotes de dados passam, desde enviar até o recebimento do pacote.\n",
        "1º Protocolo: IP (Internet Protocol)\n",
        "2º Protocolo: ICMP (Internet Control Message Protocol)\n",
        "\n",
        "#Resposta camada Acesso a Rede:\n",
        "Esta camada é definida por qual o tipo de rede física seu computador está conectado. Sendo responsavél por enviar os pacotes de dados para a camada de Internet.\n",
        "1º Protocolo: LAN (Local Área Network)\n",
        "2º Protocolo: WAN (Wide Area Network)"
      ]
    }
  ]
}